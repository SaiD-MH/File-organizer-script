{
 "cells": [
  {
   "cell_type": "code",
   "execution_count": 29,
   "id": "51ba3ecb",
   "metadata": {},
   "outputs": [],
   "source": [
    "import os \n"
   ]
  },
  {
   "cell_type": "code",
   "execution_count": 30,
   "id": "17b57848",
   "metadata": {},
   "outputs": [],
   "source": [
    "\n",
    "dir_location = './downloads'\n",
    "\n",
    "\n",
    "files = os.listdir(dir_location)\n"
   ]
  },
  {
   "cell_type": "code",
   "execution_count": 31,
   "id": "c229030e",
   "metadata": {},
   "outputs": [
    {
     "data": {
      "text/plain": [
       "{'xlsx'}"
      ]
     },
     "execution_count": 31,
     "metadata": {},
     "output_type": "execute_result"
    }
   ],
   "source": [
    "\n",
    "extentions = set()\n",
    "\n",
    "for file in files:\n",
    "    if os.path.isdir(f'{dir_location}/{file}'):\n",
    "        continue\n",
    "    extentions.add(file.partition('.')[2])\n",
    "\n",
    "\n",
    "extentions\n",
    "\n"
   ]
  },
  {
   "cell_type": "code",
   "execution_count": 32,
   "id": "2795c310",
   "metadata": {},
   "outputs": [],
   "source": [
    "\n",
    "for ext in extentions:\n",
    "    dir_name = f'{dir_location}/{ext}'\n",
    "    os.mkdir(dir_name)\n",
    "\n",
    "\n"
   ]
  },
  {
   "cell_type": "code",
   "execution_count": 33,
   "id": "1eedf60a",
   "metadata": {},
   "outputs": [],
   "source": [
    "\n",
    "for file in files:\n",
    "    old_location = f'{dir_location}/{file}'\n",
    "    new_location = f'{dir_location}/{file.partition('.')[2]}/{file}'\n",
    "    os.rename(old_location , new_location)\n"
   ]
  },
  {
   "cell_type": "code",
   "execution_count": null,
   "id": "1d29c544",
   "metadata": {},
   "outputs": [],
   "source": []
  }
 ],
 "metadata": {
  "kernelspec": {
   "display_name": "Python 3",
   "language": "python",
   "name": "python3"
  },
  "language_info": {
   "codemirror_mode": {
    "name": "ipython",
    "version": 3
   },
   "file_extension": ".py",
   "mimetype": "text/x-python",
   "name": "python",
   "nbconvert_exporter": "python",
   "pygments_lexer": "ipython3",
   "version": "3.13.3"
  }
 },
 "nbformat": 4,
 "nbformat_minor": 5
}
